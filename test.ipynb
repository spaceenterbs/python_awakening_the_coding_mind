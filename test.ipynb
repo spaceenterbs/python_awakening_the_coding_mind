{
 "cells": [
  {
   "cell_type": "code",
   "execution_count": null,
   "metadata": {},
   "outputs": [],
   "source": [
    "print(\"fast, faster, fastest\")\n",
    "print(\"step by step\")\n",
    "print(\"slow but steady wins the race\")"
   ]
  }
 ],
 "metadata": {
  "language_info": {
   "name": "python"
  },
  "orig_nbformat": 4
 },
 "nbformat": 4,
 "nbformat_minor": 2
}
